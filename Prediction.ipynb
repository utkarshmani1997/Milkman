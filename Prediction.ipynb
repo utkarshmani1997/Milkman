{
 "cells": [
  {
   "cell_type": "markdown",
   "metadata": {},
   "source": [
    "## ============================= Prediction ================================\n",
    "\n",
    "Using the value of theta you can predict the profit / loss."
   ]
  },
  {
   "cell_type": "code",
   "execution_count": 1,
   "metadata": {
    "collapsed": false
   },
   "outputs": [],
   "source": [
    "import numpy as np"
   ]
  },
  {
   "cell_type": "code",
   "execution_count": 2,
   "metadata": {
    "collapsed": false
   },
   "outputs": [],
   "source": [
    "def predict(theta_new, population) :\n",
    "    flag = True\n",
    "    while flag :\n",
    "        if population > 0 :\n",
    "            flag = False\n",
    "            # Predict values for the given population\n",
    "            predict = float(theta_new.dot([1, population]))\n",
    "            if predict > 0 :\n",
    "                print('For population = {} , we predict a profit of $'.format(b*10000), predict*10000)\n",
    "            else :\n",
    "                print('For population = {} , we predict loss of $'.format(b*10000), predict*10000)\n",
    "        else :\n",
    "            print(\"Population can't be -ve or zero!! Please Try again\")"
   ]
  },
  {
   "cell_type": "code",
   "execution_count": 3,
   "metadata": {
    "collapsed": false
   },
   "outputs": [
    {
     "name": "stdout",
     "output_type": "stream",
     "text": [
      "Enter the theta :-3.89530051  1.19298539\n",
      "Enter the population :100000\n",
      "For population = 100000.0 , we predict a profit of $ 80345.53390000001\n"
     ]
    }
   ],
   "source": [
    "theta = np.matrix(input(\"Enter the theta :\"))\n",
    "a = input(\"Enter the population :\")\n",
    "b = float(a)/10000\n",
    "predict(theta, b)"
   ]
  }
 ],
 "metadata": {
  "kernelspec": {
   "display_name": "Python 3",
   "language": "python",
   "name": "python3"
  },
  "language_info": {
   "codemirror_mode": {
    "name": "ipython",
    "version": 3
   },
   "file_extension": ".py",
   "mimetype": "text/x-python",
   "name": "python",
   "nbconvert_exporter": "python",
   "pygments_lexer": "ipython3",
   "version": "3.6.0"
  }
 },
 "nbformat": 4,
 "nbformat_minor": 2
}
